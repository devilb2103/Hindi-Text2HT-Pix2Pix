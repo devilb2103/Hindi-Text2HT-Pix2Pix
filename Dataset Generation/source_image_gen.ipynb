{
 "cells": [
  {
   "cell_type": "code",
   "execution_count": 1,
   "metadata": {},
   "outputs": [],
   "source": [
    "from PIL import Image, ImageDraw, ImageFont\n",
    "from PIL import features\n",
    "import os"
   ]
  },
  {
   "cell_type": "code",
   "execution_count": 2,
   "metadata": {},
   "outputs": [
    {
     "name": "stdout",
     "output_type": "stream",
     "text": [
      "True\n"
     ]
    }
   ],
   "source": [
    "print(features.check(\"raqm\"))"
   ]
  },
  {
   "cell_type": "code",
   "execution_count": 3,
   "metadata": {},
   "outputs": [],
   "source": [
    "# Specify your font path and size\n",
    "font_path = \"./Fonts/Amiko-Regular.ttf\"  # Use any font file (e.g., Arial, Times New Roman, etc.)\n",
    "font_size = 48  # Adjust the size as needed\n",
    "output_dir = \"sourceImages\"  # Directory to save the generated images\n",
    "os.makedirs(output_dir, exist_ok=True)\n",
    "\n",
    "def text_to_image(text, font_path, font_size, height=100, padding=10, output_dir=\"output_images\"):\n",
    "    font = ImageFont.truetype(font_path, size=90, layout_engine=ImageFont.Layout.RAQM)\n",
    "\n",
    "    # Create a temporary image to calculate the size of the text\n",
    "    temp_image = Image.new(\"L\", (1, 1), color=255)\n",
    "    draw = ImageDraw.Draw(temp_image)\n",
    "\n",
    "    # Calculate the bounding box of the text\n",
    "    text_bbox = draw.textbbox((0, 0), text, font=font)\n",
    "    text_width = text_bbox[2] - text_bbox[0]\n",
    "    text_height = text_bbox[3] - text_bbox[1]\n",
    "\n",
    "    # Adjust width based on the text length with added padding\n",
    "    image_width = text_width + 2 * padding\n",
    "    image_height = height\n",
    "\n",
    "    # Create the final image with adjusted width\n",
    "    image = Image.new(\"L\", (image_width, image_height), color=255)\n",
    "    draw = ImageDraw.Draw(image)\n",
    "\n",
    "    # Calculate position to center the text vertically\n",
    "    text_position = (padding, (image_height - text_height) // 2)\n",
    "\n",
    "    # Draw text onto image\n",
    "    draw.text(text_position, text, font=font, fill=0)  # Fill with black text on white background\n",
    "\n",
    "    # Save image\n",
    "    # image.save(os.path.join(output_dir, f\"{text}.png\"))\n",
    "    return image\n"
   ]
  },
  {
   "cell_type": "code",
   "execution_count": 4,
   "metadata": {},
   "outputs": [],
   "source": [
    "words = []\n",
    "with open(\"./annotations.txt\", \"r\", encoding=\"utf8\") as f:\n",
    "    words = f.readlines()\n",
    "words = [x.replace(\"\\n\", \"\") for x in words]"
   ]
  },
  {
   "cell_type": "code",
   "execution_count": 5,
   "metadata": {},
   "outputs": [
    {
     "name": "stdout",
     "output_type": "stream",
     "text": [
      "परिहारण\n"
     ]
    },
    {
     "data": {
      "image/jpeg": "[encoded data removed]",
      "image/png": "[encoded data removed]",
      "text/plain": [
       "<PIL.Image.Image image mode=L size=369x100>"
      ]
     },
     "execution_count": 5,
     "metadata": {},
     "output_type": "execute_result"
    }
   ],
   "source": [
    "print(words[0])\n",
    "text_to_image(words[0], font_path, font_size)"
   ]
  },
  {
   "cell_type": "code",
   "execution_count": 45,
   "metadata": {},
   "outputs": [],
   "source": [
    "# Modify the process_images function to use the default font\n",
    "def process_images_default_font(words, input_images_dir, output_source_dir, output_target_dir):\n",
    "    for idx, word in enumerate(words, start=1):\n",
    "        # Generate source image (word image)\n",
    "        word_image = text_to_image(word, font_path, font_size)\n",
    "\n",
    "        # Resize and pad to 256x256\n",
    "        word_image_resized = resize_and_pad(word_image)\n",
    "        word_image_resized.save(os.path.join(output_source_dir, f\"{idx}.png\"))\n",
    "\n",
    "        # Open the corresponding target image (e.g., 1.png, 2.png)\n",
    "        target_image_path = os.path.join(input_images_dir, f\"{idx}.png\")\n",
    "        if os.path.exists(target_image_path):\n",
    "            target_image = Image.open(target_image_path).convert(\"L\")\n",
    "\n",
    "            # Resize and pad to 256x256\n",
    "            target_image_resized = resize_and_pad(target_image)\n",
    "            target_image_resized.save(os.path.join(output_target_dir, f\"{idx}.png\"))\n",
    "\n",
    "def resize_and_pad(image, target_size=(256, 256)):\n",
    "    \"\"\"Resize the image, maintaining the aspect ratio, and pad to target size with equal padding on both sides.\"\"\"\n",
    "    original_size = image.size\n",
    "    ratio = min(target_size[0] / original_size[0], target_size[1] / original_size[1])\n",
    "    new_size = (int(original_size[0] * ratio), int(original_size[1] * ratio))\n",
    "    resized_image = image.resize(new_size, Image.Resampling.LANCZOS)\n",
    "\n",
    "    # Create a new blank image with target size (256x256) and white background\n",
    "    new_image = Image.new(\"L\", target_size, color=255)\n",
    "\n",
    "    # Calculate the position to center the resized image on the new canvas\n",
    "    top_left_x = (target_size[0] - new_size[0] + 10) // 2  # Horizontal center\n",
    "    top_left_y = (target_size[1] - new_size[1]) // 2  # Vertical center\n",
    "\n",
    "    # Paste the resized image in the center\n",
    "    new_image.paste(resized_image, (top_left_x, top_left_y))\n",
    "\n",
    "    return new_image\n",
    "\n",
    "# Running the function with default font\n",
    "process_images_default_font(words, \"./WordImages\", \"./SourceImages\", \"./TargetImages\")"
   ]
  },
  {
   "cell_type": "code",
   "execution_count": 47,
   "metadata": {},
   "outputs": [],
   "source": [
    "import os\n",
    "from PIL import Image\n",
    "\n",
    "# Paths to the two folders containing your images\n",
    "folder1 = \"./SourceImages\"  # Machine-written images\n",
    "folder2 = \"./TargetImages\"  # Handwritten images\n",
    "output_folder = \"./ConcatenatedImages\"  # Where concatenated images will be saved\n",
    "\n",
    "# Create the output directory if it doesn't exist\n",
    "os.makedirs(output_folder, exist_ok=True)\n",
    "\n",
    "# List all files in one of the folders (assuming both folders have the same files)\n",
    "file_names = os.listdir(folder1)\n",
    "\n",
    "for file_name in file_names:\n",
    "    # Load images from both folders\n",
    "    img1_path = os.path.join(folder1, file_name)\n",
    "    img2_path = os.path.join(folder2, file_name)\n",
    "    \n",
    "    img1 = Image.open(img1_path).convert('L')\n",
    "    img2 = Image.open(img2_path).convert('L')\n",
    "    \n",
    "    # Check if both images are 256x256 (optional check)\n",
    "    assert img1.size == (256, 256), f\"Image {file_name} in folder1 is not 256x256.\"\n",
    "    assert img2.size == (256, 256), f\"Image {file_name} in folder2 is not 256x256.\"\n",
    "    \n",
    "    # Concatenate images horizontally (side by side)\n",
    "    concatenated_img = Image.new('L', (512, 256))  # New image of size 512x256\n",
    "    concatenated_img.paste(img1, (0, 0))  # Paste img1 on the left\n",
    "    concatenated_img.paste(img2, (256, 0))  # Paste img2 on the right\n",
    "    \n",
    "    # Save the concatenated image to the output folder\n",
    "    output_path = os.path.join(output_folder, file_name)\n",
    "    concatenated_img.save(output_path)\n",
    "\n",
    "    # print(f\"Saved {output_path}\")\n"
   ]
  }
 ],
 "metadata": {
  "kernelspec": {
   "display_name": "Python 3",
   "language": "python",
   "name": "python3"
  },
  "language_info": {
   "codemirror_mode": {
    "name": "ipython",
    "version": 3
   },
   "file_extension": ".py",
   "mimetype": "text/x-python",
   "name": "python",
   "nbconvert_exporter": "python",
   "pygments_lexer": "ipython3",
   "version": "3.11.5"
  }
 },
 "nbformat": 4,
 "nbformat_minor": 2
}
